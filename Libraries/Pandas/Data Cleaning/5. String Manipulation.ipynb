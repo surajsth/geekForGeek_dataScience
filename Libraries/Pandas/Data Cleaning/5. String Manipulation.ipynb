{
 "cells": [
  {
   "cell_type": "code",
   "execution_count": 1,
   "id": "1b721ce4-c39a-413e-8268-a3092f46503a",
   "metadata": {},
   "outputs": [
    {
     "name": "stdout",
     "output_type": "stream",
     "text": [
      "      Names       City\n",
      "0   Gulshan      Delhi\n",
      "1  Shashank     Mumbai\n",
      "2     Bablu    Kolkata\n",
      "3  Abhishek      Delhi\n",
      "4     Anand    Chennai\n",
      "5       NaN  Bangalore\n",
      "6    Pratap  Hyderabad\n"
     ]
    }
   ],
   "source": [
    "import pandas as pd\n",
    "import numpy as np\n",
    "\n",
    "data = {'Names': ['Gulshan', 'Shashank', 'Bablu', 'Abhishek', 'Anand', np.nan, 'Pratap'],\n",
    "        'City': ['Delhi', 'Mumbai', 'Kolkata', 'Delhi', 'Chennai', 'Bangalore', 'Hyderabad']}\n",
    "\n",
    "df = pd.DataFrame(data)\n",
    "print(df)"
   ]
  },
  {
   "cell_type": "code",
   "execution_count": 6,
   "id": "75f92f7f-5073-4ff7-a7df-0cf49901a1ee",
   "metadata": {},
   "outputs": [
    {
     "name": "stdout",
     "output_type": "stream",
     "text": [
      "      Names       City\n",
      "0   Gulshan      Delhi\n",
      "1  Shashank     Mumbai\n",
      "2     Bablu    Kolkata\n",
      "3  Abhishek      Delhi\n",
      "4     Anand    Chennai\n",
      "5      <NA>  Bangalore\n",
      "6    Pratap  Hyderabad\n"
     ]
    }
   ],
   "source": [
    "# Change Column Datatype in Pandas\n",
    "print(df.astype('string'))"
   ]
  },
  {
   "cell_type": "code",
   "execution_count": 7,
   "id": "b80630d1-3627-453d-8cbe-5fd325811d41",
   "metadata": {},
   "outputs": [
    {
     "data": {
      "text/html": [
       "<div>\n",
       "<style scoped>\n",
       "    .dataframe tbody tr th:only-of-type {\n",
       "        vertical-align: middle;\n",
       "    }\n",
       "\n",
       "    .dataframe tbody tr th {\n",
       "        vertical-align: top;\n",
       "    }\n",
       "\n",
       "    .dataframe thead th {\n",
       "        text-align: right;\n",
       "    }\n",
       "</style>\n",
       "<table border=\"1\" class=\"dataframe\">\n",
       "  <thead>\n",
       "    <tr style=\"text-align: right;\">\n",
       "      <th></th>\n",
       "      <th>Names</th>\n",
       "      <th>City</th>\n",
       "    </tr>\n",
       "  </thead>\n",
       "  <tbody>\n",
       "    <tr>\n",
       "      <th>0</th>\n",
       "      <td>Gulshan</td>\n",
       "      <td>Delhi</td>\n",
       "    </tr>\n",
       "    <tr>\n",
       "      <th>1</th>\n",
       "      <td>Shashank</td>\n",
       "      <td>Mumbai</td>\n",
       "    </tr>\n",
       "    <tr>\n",
       "      <th>2</th>\n",
       "      <td>Bablu</td>\n",
       "      <td>Kolkata</td>\n",
       "    </tr>\n",
       "    <tr>\n",
       "      <th>3</th>\n",
       "      <td>Abhishek</td>\n",
       "      <td>Delhi</td>\n",
       "    </tr>\n",
       "    <tr>\n",
       "      <th>4</th>\n",
       "      <td>Anand</td>\n",
       "      <td>Chennai</td>\n",
       "    </tr>\n",
       "    <tr>\n",
       "      <th>5</th>\n",
       "      <td>NaN</td>\n",
       "      <td>Bangalore</td>\n",
       "    </tr>\n",
       "    <tr>\n",
       "      <th>6</th>\n",
       "      <td>Pratap</td>\n",
       "      <td>Hyderabad</td>\n",
       "    </tr>\n",
       "  </tbody>\n",
       "</table>\n",
       "</div>"
      ],
      "text/plain": [
       "      Names       City\n",
       "0   Gulshan      Delhi\n",
       "1  Shashank     Mumbai\n",
       "2     Bablu    Kolkata\n",
       "3  Abhishek      Delhi\n",
       "4     Anand    Chennai\n",
       "5       NaN  Bangalore\n",
       "6    Pratap  Hyderabad"
      ]
     },
     "execution_count": 7,
     "metadata": {},
     "output_type": "execute_result"
    }
   ],
   "source": [
    "# String Manipulations in Pandas\n",
    "pd.DataFrame(data)"
   ]
  },
  {
   "cell_type": "code",
   "execution_count": 8,
   "id": "93bde49d-b1f4-4041-a038-3de8afee26a1",
   "metadata": {},
   "outputs": [
    {
     "name": "stdout",
     "output_type": "stream",
     "text": [
      "0     gulshan\n",
      "1    shashank\n",
      "2       bablu\n",
      "3    abhishek\n",
      "4       anand\n",
      "5         NaN\n",
      "6      pratap\n",
      "Name: Names, dtype: object\n"
     ]
    }
   ],
   "source": [
    "print(df['Names'].str.lower())"
   ]
  },
  {
   "cell_type": "code",
   "execution_count": 9,
   "id": "0a832592-3e73-430c-9898-a83f9efd6a19",
   "metadata": {},
   "outputs": [
    {
     "name": "stdout",
     "output_type": "stream",
     "text": [
      "0     GULSHAN\n",
      "1    SHASHANK\n",
      "2       BABLU\n",
      "3    ABHISHEK\n",
      "4       ANAND\n",
      "5         NaN\n",
      "6      PRATAP\n",
      "Name: Names, dtype: object\n"
     ]
    }
   ],
   "source": [
    "print(df['Names'].str.upper())"
   ]
  },
  {
   "cell_type": "code",
   "execution_count": 10,
   "id": "6fdd08d1-dcde-44ea-aca5-dee474bc349d",
   "metadata": {},
   "outputs": [
    {
     "name": "stdout",
     "output_type": "stream",
     "text": [
      "0     Gulshan\n",
      "1    Shashank\n",
      "2       Bablu\n",
      "3    Abhishek\n",
      "4       Anand\n",
      "5         NaN\n",
      "6      Pratap\n",
      "Name: Names, dtype: object\n"
     ]
    }
   ],
   "source": [
    "print(df['Names'].str.strip())"
   ]
  },
  {
   "cell_type": "code",
   "execution_count": 11,
   "id": "09bfd5bf-419d-47ae-a062-7841a5eb04ab",
   "metadata": {},
   "outputs": [
    {
     "name": "stdout",
     "output_type": "stream",
     "text": [
      "      Names   Split_Names\n",
      "0   Gulshan    [Gulsh, n]\n",
      "1  Shashank  [Sh, sh, nk]\n",
      "2     Bablu      [B, blu]\n",
      "3  Abhishek    [Abhishek]\n",
      "4     Anand      [An, nd]\n",
      "5       NaN           NaN\n",
      "6    Pratap    [Pr, t, p]\n"
     ]
    }
   ],
   "source": [
    "df['Split_Names'] = df['Names'].str.split('a')\n",
    "print(df[['Names', 'Split_Names']])"
   ]
  },
  {
   "cell_type": "code",
   "execution_count": 12,
   "id": "760adf10-2324-4274-91a7-8dae92467579",
   "metadata": {},
   "outputs": [
    {
     "name": "stdout",
     "output_type": "stream",
     "text": [
      "0    7.0\n",
      "1    8.0\n",
      "2    5.0\n",
      "3    8.0\n",
      "4    5.0\n",
      "5    NaN\n",
      "6    6.0\n",
      "Name: Names, dtype: float64\n"
     ]
    }
   ],
   "source": [
    "print(df['Names'].str.len())"
   ]
  },
  {
   "cell_type": "code",
   "execution_count": 13,
   "id": "2a6cdaaa-db4f-4c98-93fc-efbe1e7f3957",
   "metadata": {},
   "outputs": [
    {
     "name": "stdout",
     "output_type": "stream",
     "text": [
      "      Names       City   Split_Names\n",
      "0   Gulshan      Delhi    [Gulsh, n]\n",
      "1  Shashank     Mumbai  [Sh, sh, nk]\n",
      "2     Bablu    Kolkata      [B, blu]\n",
      "3  Abhishek      Delhi    [Abhishek]\n",
      "4     Anand    Chennai      [An, nd]\n",
      "5       NaN  Bangalore           NaN\n",
      "6    Pratap  Hyderabad    [Pr, t, p]\n",
      "\n",
      "after using cat:\n",
      "Gulshan, Shashank, Bablu, Abhishek, Anand, Pratap\n"
     ]
    }
   ],
   "source": [
    "print(df)\n",
    "\n",
    "print(\"\\nafter using cat:\")\n",
    "print(df['Names'].str.cat(sep=', '))"
   ]
  },
  {
   "cell_type": "code",
   "execution_count": 14,
   "id": "3fdcdfd1-c65a-43f8-90eb-9335fd687435",
   "metadata": {},
   "outputs": [
    {
     "name": "stdout",
     "output_type": "stream",
     "text": [
      "   Bangalore  Chennai  Delhi  Hyderabad  Kolkata  Mumbai\n",
      "0          0        0      1          0        0       0\n",
      "1          0        0      0          0        0       1\n",
      "2          0        0      0          0        1       0\n",
      "3          0        0      1          0        0       0\n",
      "4          0        1      0          0        0       0\n",
      "5          1        0      0          0        0       0\n",
      "6          0        0      0          1        0       0\n"
     ]
    }
   ],
   "source": [
    "print(df['City'].str.get_dummies())"
   ]
  },
  {
   "cell_type": "code",
   "execution_count": 15,
   "id": "2aedba62-aabb-4a98-8f98-1e5ccf5fbed4",
   "metadata": {},
   "outputs": [
    {
     "name": "stdout",
     "output_type": "stream",
     "text": [
      "0     True\n",
      "1    False\n",
      "2    False\n",
      "3    False\n",
      "4    False\n",
      "5      NaN\n",
      "6    False\n",
      "Name: Names, dtype: object\n"
     ]
    }
   ],
   "source": [
    "print(df['Names'].str.startswith('G'))"
   ]
  },
  {
   "cell_type": "code",
   "execution_count": 16,
   "id": "65c8f4cb-b303-4dfb-bde7-c1faeb27578c",
   "metadata": {},
   "outputs": [
    {
     "name": "stdout",
     "output_type": "stream",
     "text": [
      "0    False\n",
      "1    False\n",
      "2    False\n",
      "3    False\n",
      "4    False\n",
      "5      NaN\n",
      "6    False\n",
      "Name: Names, dtype: object\n"
     ]
    }
   ],
   "source": [
    "print(df['Names'].str.endswith('h'))"
   ]
  },
  {
   "cell_type": "code",
   "execution_count": 17,
   "id": "b4d0a572-4eb1-42bb-b74b-142629c3d7ed",
   "metadata": {},
   "outputs": [
    {
     "name": "stdout",
     "output_type": "stream",
     "text": [
      "0      Gaurav\n",
      "1    Shashank\n",
      "2       Bablu\n",
      "3    Abhishek\n",
      "4       Anand\n",
      "5         NaN\n",
      "6      Pratap\n",
      "Name: Names, dtype: object\n"
     ]
    }
   ],
   "source": [
    "print(df['Names'].str.replace('Gulshan', 'Gaurav'))"
   ]
  },
  {
   "cell_type": "code",
   "execution_count": 18,
   "id": "f2495804-8f39-48c5-91f3-6036621d82f0",
   "metadata": {},
   "outputs": [
    {
     "name": "stdout",
     "output_type": "stream",
     "text": [
      "0      GulshanGulshan\n",
      "1    ShashankShashank\n",
      "2          BabluBablu\n",
      "3    AbhishekAbhishek\n",
      "4          AnandAnand\n",
      "5                 NaN\n",
      "6        PratapPratap\n",
      "Name: Names, dtype: object\n"
     ]
    }
   ],
   "source": [
    "print(df['Names'].str.repeat(2))"
   ]
  },
  {
   "cell_type": "code",
   "execution_count": 19,
   "id": "9a269276-5d97-460d-a2be-7cd41cacd452",
   "metadata": {},
   "outputs": [
    {
     "name": "stdout",
     "output_type": "stream",
     "text": [
      "0    1.0\n",
      "1    2.0\n",
      "2    1.0\n",
      "3    0.0\n",
      "4    1.0\n",
      "5    NaN\n",
      "6    2.0\n",
      "Name: Names, dtype: float64\n"
     ]
    }
   ],
   "source": [
    "print(df['Names'].str.count('a'))"
   ]
  },
  {
   "cell_type": "code",
   "execution_count": 20,
   "id": "7e053e13-6bb7-4818-b1f3-b1020a5683d2",
   "metadata": {},
   "outputs": [
    {
     "name": "stdout",
     "output_type": "stream",
     "text": [
      "0    5.0\n",
      "1    2.0\n",
      "2    1.0\n",
      "3   -1.0\n",
      "4    2.0\n",
      "5    NaN\n",
      "6    2.0\n",
      "Name: Names, dtype: float64\n"
     ]
    }
   ],
   "source": [
    "print(df['Names'].str.find('a'))"
   ]
  },
  {
   "cell_type": "code",
   "execution_count": 21,
   "id": "8e182a77-871c-41bd-8d30-fa16588a99f8",
   "metadata": {},
   "outputs": [
    {
     "name": "stdout",
     "output_type": "stream",
     "text": [
      "0       [a]\n",
      "1    [a, a]\n",
      "2       [a]\n",
      "3        []\n",
      "4       [a]\n",
      "5       NaN\n",
      "6    [a, a]\n",
      "Name: Names, dtype: object\n"
     ]
    }
   ],
   "source": [
    "print(df['Names'].str.findall('a'))"
   ]
  },
  {
   "cell_type": "code",
   "execution_count": 22,
   "id": "544e9d63-b1a6-42b2-ae7a-97034c7fd6c0",
   "metadata": {},
   "outputs": [
    {
     "name": "stdout",
     "output_type": "stream",
     "text": [
      "0    False\n",
      "1    False\n",
      "2    False\n",
      "3    False\n",
      "4    False\n",
      "5      NaN\n",
      "6    False\n",
      "Name: Names, dtype: object\n"
     ]
    }
   ],
   "source": [
    "print(df['Names'].str.islower())"
   ]
  },
  {
   "cell_type": "code",
   "execution_count": 23,
   "id": "abe5ba89-3939-4db9-b214-f3073f23c83f",
   "metadata": {},
   "outputs": [
    {
     "name": "stdout",
     "output_type": "stream",
     "text": [
      "0    False\n",
      "1    False\n",
      "2    False\n",
      "3    False\n",
      "4    False\n",
      "5      NaN\n",
      "6    False\n",
      "Name: Names, dtype: object\n"
     ]
    }
   ],
   "source": [
    "print(df['Names'].str.isupper())"
   ]
  },
  {
   "cell_type": "code",
   "execution_count": 24,
   "id": "d55d631b-e3f2-47f8-a3da-a3845b144842",
   "metadata": {},
   "outputs": [
    {
     "name": "stdout",
     "output_type": "stream",
     "text": [
      "0    False\n",
      "1    False\n",
      "2    False\n",
      "3    False\n",
      "4    False\n",
      "5      NaN\n",
      "6    False\n",
      "Name: Names, dtype: object\n"
     ]
    }
   ],
   "source": [
    "print(df['Names'].str.isnumeric())"
   ]
  },
  {
   "cell_type": "code",
   "execution_count": 25,
   "id": "370e36ec-a363-4c5f-8bf0-dccc76cc764d",
   "metadata": {},
   "outputs": [
    {
     "name": "stdout",
     "output_type": "stream",
     "text": [
      "0     gULSHAN\n",
      "1    sHASHANK\n",
      "2       bABLU\n",
      "3    aBHISHEK\n",
      "4       aNAND\n",
      "5         NaN\n",
      "6      pRATAP\n",
      "Name: Names, dtype: object\n"
     ]
    }
   ],
   "source": [
    "print(df['Names'].str.swapcase())"
   ]
  },
  {
   "cell_type": "code",
   "execution_count": null,
   "id": "a81036aa-4df4-4897-800c-9f5a4f3186e2",
   "metadata": {},
   "outputs": [],
   "source": []
  },
  {
   "cell_type": "code",
   "execution_count": null,
   "id": "76c0817b-df35-4073-8c6f-38ade10c3ab5",
   "metadata": {},
   "outputs": [],
   "source": []
  }
 ],
 "metadata": {
  "kernelspec": {
   "display_name": "Python 3 (ipykernel)",
   "language": "python",
   "name": "python3"
  },
  "language_info": {
   "codemirror_mode": {
    "name": "ipython",
    "version": 3
   },
   "file_extension": ".py",
   "mimetype": "text/x-python",
   "name": "python",
   "nbconvert_exporter": "python",
   "pygments_lexer": "ipython3",
   "version": "3.12.4"
  }
 },
 "nbformat": 4,
 "nbformat_minor": 5
}
