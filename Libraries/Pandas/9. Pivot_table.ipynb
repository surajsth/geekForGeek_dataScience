{
 "cells": [
  {
   "cell_type": "code",
   "execution_count": 1,
   "id": "7b1471c2-5bcf-41b8-b2a1-3f3a98c347bc",
   "metadata": {},
   "outputs": [
    {
     "data": {
      "text/html": [
       "<div>\n",
       "<style scoped>\n",
       "    .dataframe tbody tr th:only-of-type {\n",
       "        vertical-align: middle;\n",
       "    }\n",
       "\n",
       "    .dataframe tbody tr th {\n",
       "        vertical-align: top;\n",
       "    }\n",
       "\n",
       "    .dataframe thead th {\n",
       "        text-align: right;\n",
       "    }\n",
       "</style>\n",
       "<table border=\"1\" class=\"dataframe\">\n",
       "  <thead>\n",
       "    <tr style=\"text-align: right;\">\n",
       "      <th></th>\n",
       "      <th>Product</th>\n",
       "      <th>Category</th>\n",
       "      <th>Quantity</th>\n",
       "      <th>Amount</th>\n",
       "    </tr>\n",
       "  </thead>\n",
       "  <tbody>\n",
       "    <tr>\n",
       "      <th>0</th>\n",
       "      <td>Carrots</td>\n",
       "      <td>Vegetable</td>\n",
       "      <td>8</td>\n",
       "      <td>270</td>\n",
       "    </tr>\n",
       "    <tr>\n",
       "      <th>1</th>\n",
       "      <td>Broccoli</td>\n",
       "      <td>Vegetable</td>\n",
       "      <td>5</td>\n",
       "      <td>239</td>\n",
       "    </tr>\n",
       "    <tr>\n",
       "      <th>2</th>\n",
       "      <td>Banana</td>\n",
       "      <td>Fruit</td>\n",
       "      <td>3</td>\n",
       "      <td>617</td>\n",
       "    </tr>\n",
       "    <tr>\n",
       "      <th>3</th>\n",
       "      <td>Banana</td>\n",
       "      <td>Fruit</td>\n",
       "      <td>4</td>\n",
       "      <td>384</td>\n",
       "    </tr>\n",
       "    <tr>\n",
       "      <th>4</th>\n",
       "      <td>Beans</td>\n",
       "      <td>Vegetable</td>\n",
       "      <td>5</td>\n",
       "      <td>626</td>\n",
       "    </tr>\n",
       "    <tr>\n",
       "      <th>5</th>\n",
       "      <td>Orange</td>\n",
       "      <td>Fruit</td>\n",
       "      <td>9</td>\n",
       "      <td>610</td>\n",
       "    </tr>\n",
       "    <tr>\n",
       "      <th>6</th>\n",
       "      <td>Broccoli</td>\n",
       "      <td>Vegetable</td>\n",
       "      <td>11</td>\n",
       "      <td>62</td>\n",
       "    </tr>\n",
       "    <tr>\n",
       "      <th>7</th>\n",
       "      <td>Banana</td>\n",
       "      <td>Fruit</td>\n",
       "      <td>8</td>\n",
       "      <td>90</td>\n",
       "    </tr>\n",
       "  </tbody>\n",
       "</table>\n",
       "</div>"
      ],
      "text/plain": [
       "    Product   Category  Quantity  Amount\n",
       "0   Carrots  Vegetable         8     270\n",
       "1  Broccoli  Vegetable         5     239\n",
       "2    Banana      Fruit         3     617\n",
       "3    Banana      Fruit         4     384\n",
       "4     Beans  Vegetable         5     626\n",
       "5    Orange      Fruit         9     610\n",
       "6  Broccoli  Vegetable        11      62\n",
       "7    Banana      Fruit         8      90"
      ]
     },
     "execution_count": 1,
     "metadata": {},
     "output_type": "execute_result"
    }
   ],
   "source": [
    "# importing pandas\n",
    "import pandas as pd\n",
    "\n",
    "# creating dataframe\n",
    "df = pd.DataFrame({'Product': ['Carrots', 'Broccoli', 'Banana', 'Banana',\n",
    "                               'Beans', 'Orange', 'Broccoli', 'Banana'],\n",
    "                   'Category': ['Vegetable', 'Vegetable', 'Fruit', 'Fruit',\n",
    "                                'Vegetable', 'Fruit', 'Vegetable', 'Fruit'],\n",
    "                   'Quantity': [8, 5, 3, 4, 5, 9, 11, 8],\n",
    "                   'Amount': [270, 239, 617, 384, 626, 610, 62, 90]})\n",
    "df"
   ]
  },
  {
   "cell_type": "code",
   "execution_count": 3,
   "id": "1eafbbfe-f82b-4ee7-a3c7-8e21be920402",
   "metadata": {},
   "outputs": [
    {
     "name": "stdout",
     "output_type": "stream",
     "text": [
      "          Amount\n",
      "Product         \n",
      "Banana      1091\n",
      "Beans        626\n",
      "Broccoli     301\n",
      "Carrots      270\n",
      "Orange       610\n"
     ]
    }
   ],
   "source": [
    "# Get the Total Sales of Each Product\n",
    "pivot = df.pivot_table(index=['Product'],\n",
    "                       values=['Amount'],\n",
    "                       aggfunc='sum')\n",
    "print(pivot)"
   ]
  },
  {
   "cell_type": "code",
   "execution_count": 4,
   "id": "b72ee91d-5512-4998-bed5-73889f92b526",
   "metadata": {},
   "outputs": [
    {
     "name": "stdout",
     "output_type": "stream",
     "text": [
      "           Amount\n",
      "Category         \n",
      "Fruit        1701\n",
      "Vegetable    1197\n"
     ]
    }
   ],
   "source": [
    "# Get the Total Sales of Each Category\n",
    "# creating pivot table of total\n",
    "# sales category-wise aggfunc = 'sum'\n",
    "pivot = df.pivot_table(index=['Category'],\n",
    "                       values=['Amount'],\n",
    "                       aggfunc='sum')\n",
    "print(pivot)"
   ]
  },
  {
   "cell_type": "code",
   "execution_count": 5,
   "id": "bc7829ae-6a6b-419d-86fc-8b17a67f9cab",
   "metadata": {},
   "outputs": [
    {
     "name": "stdout",
     "output_type": "stream",
     "text": [
      "                    Amount\n",
      "Product  Category         \n",
      "Banana   Fruit        1091\n",
      "Beans    Vegetable     626\n",
      "Broccoli Vegetable     301\n",
      "Carrots  Vegetable     270\n",
      "Orange   Fruit         610\n"
     ]
    }
   ],
   "source": [
    "# Get Total Sales by Category and Product Both\n",
    "pivot = df.pivot_table(index=['Product', 'Category'],\n",
    "                       values=['Amount'], aggfunc='sum')\n",
    "print(pivot)"
   ]
  },
  {
   "cell_type": "code",
   "execution_count": 6,
   "id": "9dc961c7-a2c7-4d3e-8482-151a744ecfa9",
   "metadata": {},
   "outputs": [
    {
     "name": "stdout",
     "output_type": "stream",
     "text": [
      "           Amount           \n",
      "             mean median min\n",
      "Category                    \n",
      "Fruit      425.25  497.0  90\n",
      "Vegetable  299.25  254.5  62\n"
     ]
    }
   ],
   "source": [
    "# Get the Mean, Median, Minimum Sale by Category\n",
    "# 'mean', 'min'} will get median, mean and\n",
    "# minimum of sales respectively\n",
    "pivot = df.pivot_table(index=['Category'], values=['Amount'],\n",
    "                       aggfunc={'median', 'mean', 'min'})\n",
    "print(pivot)"
   ]
  },
  {
   "cell_type": "code",
   "execution_count": 7,
   "id": "8c14c673-11c4-4cd0-b36a-e284174973eb",
   "metadata": {},
   "outputs": [
    {
     "name": "stdout",
     "output_type": "stream",
     "text": [
      "              Amount            \n",
      "                mean median  min\n",
      "Product                         \n",
      "Banana    363.666667  384.0   90\n",
      "Beans     626.000000  626.0  626\n",
      "Broccoli  150.500000  150.5   62\n",
      "Carrots   270.000000  270.0  270\n",
      "Orange    610.000000  610.0  610\n"
     ]
    }
   ],
   "source": [
    " # Get the Mean, Median, Minimum Sale by Product\n",
    "pivot = df.pivot_table(index=['Product'], values=['Amount'],\n",
    "                       aggfunc={'median', 'mean', 'min'})\n",
    "print(pivot)"
   ]
  },
  {
   "cell_type": "code",
   "execution_count": null,
   "id": "44517c62-cc74-41ec-87c1-3b49b3315ca2",
   "metadata": {},
   "outputs": [],
   "source": []
  },
  {
   "cell_type": "code",
   "execution_count": null,
   "id": "e8c10686-12ba-49f2-8e9d-f13a8f658556",
   "metadata": {},
   "outputs": [],
   "source": []
  },
  {
   "cell_type": "code",
   "execution_count": null,
   "id": "3fe06fed-4d21-425f-957b-7dbb65feedd8",
   "metadata": {},
   "outputs": [],
   "source": []
  }
 ],
 "metadata": {
  "kernelspec": {
   "display_name": "Python 3 (ipykernel)",
   "language": "python",
   "name": "python3"
  },
  "language_info": {
   "codemirror_mode": {
    "name": "ipython",
    "version": 3
   },
   "file_extension": ".py",
   "mimetype": "text/x-python",
   "name": "python",
   "nbconvert_exporter": "python",
   "pygments_lexer": "ipython3",
   "version": "3.12.4"
  }
 },
 "nbformat": 4,
 "nbformat_minor": 5
}
