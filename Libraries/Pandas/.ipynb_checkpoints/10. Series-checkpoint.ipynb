{
 "cells": [
  {
   "cell_type": "code",
   "execution_count": 1,
   "id": "2710df5a-d133-4aa9-b777-b38c05e91a12",
   "metadata": {},
   "outputs": [
    {
     "name": "stdout",
     "output_type": "stream",
     "text": [
      "0    a\n",
      "1    b\n",
      "2    c\n",
      "3    d\n",
      "4    e\n",
      "dtype: object\n"
     ]
    }
   ],
   "source": [
    "# Creating a Series from a NumPy Array\n",
    "import pandas as pd\n",
    "import numpy as np\n",
    "\n",
    "data = np.array(['a', 'b', 'c', 'd', 'e'])\n",
    "\n",
    "ser = pd.Series(data)\n",
    "print(ser)"
   ]
  },
  {
   "cell_type": "code",
   "execution_count": 3,
   "id": "4d93e794-4c2a-48c8-a09a-a17b8870f088",
   "metadata": {},
   "outputs": [
    {
     "data": {
      "text/plain": [
       "0    a\n",
       "1    b\n",
       "2    c\n",
       "3    d\n",
       "4    e\n",
       "dtype: object"
      ]
     },
     "execution_count": 3,
     "metadata": {},
     "output_type": "execute_result"
    }
   ],
   "source": [
    "# Creating a Series from a List\n",
    "data = ['a', 'b', 'c', 'd', 'e']\n",
    "pd.Series(data)"
   ]
  },
  {
   "cell_type": "code",
   "execution_count": 4,
   "id": "70a46447-a0f3-4b1f-9eb7-b319eaa1d70c",
   "metadata": {},
   "outputs": [
    {
     "data": {
      "text/plain": [
       "Geeks    10\n",
       "for      20\n",
       "geeks    30\n",
       "dtype: int64"
      ]
     },
     "execution_count": 4,
     "metadata": {},
     "output_type": "execute_result"
    }
   ],
   "source": [
    "# Creating a Series from a Dictionary\n",
    "data = {'Geeks': 10, 'for': 20, 'geeks': 30}\n",
    "pd.Series(data)"
   ]
  },
  {
   "cell_type": "code",
   "execution_count": 5,
   "id": "3ff6eca6-0d57-427c-a937-5f738c7bd640",
   "metadata": {},
   "outputs": [
    {
     "data": {
      "text/plain": [
       "0     1.00\n",
       "1     3.25\n",
       "2     5.50\n",
       "3     7.75\n",
       "4    10.00\n",
       "dtype: float64"
      ]
     },
     "execution_count": 5,
     "metadata": {},
     "output_type": "execute_result"
    }
   ],
   "source": [
    "# Creating a Series Using NumPy Functions\n",
    "import pandas as pd\n",
    "pd.Series(np.linspace(1, 10, 5))"
   ]
  },
  {
   "cell_type": "code",
   "execution_count": 6,
   "id": "d2513070-aa37-45b1-8e88-24e3f483d2d2",
   "metadata": {},
   "outputs": [
    {
     "data": {
      "text/plain": [
       "0     5\n",
       "1     6\n",
       "2     7\n",
       "3     8\n",
       "4     9\n",
       "5    10\n",
       "6    11\n",
       "7    12\n",
       "8    13\n",
       "9    14\n",
       "dtype: int64"
      ]
     },
     "execution_count": 6,
     "metadata": {},
     "output_type": "execute_result"
    }
   ],
   "source": [
    "# Creating a Series Using range()\n",
    "pd.Series(range(5, 15))"
   ]
  },
  {
   "cell_type": "code",
   "execution_count": 7,
   "id": "4d92be61-1af9-4046-8d2c-6cb32627fd4a",
   "metadata": {},
   "outputs": [
    {
     "data": {
      "text/plain": [
       "a     1\n",
       "b     4\n",
       "c     7\n",
       "d    10\n",
       "e    13\n",
       "f    16\n",
       "g    19\n",
       "dtype: int64"
      ]
     },
     "execution_count": 7,
     "metadata": {},
     "output_type": "execute_result"
    }
   ],
   "source": [
    "# Creating a Series Using List Comprehension\n",
    "pd.Series(range(1,20,3), index=[x for x in 'abcdefg'])"
   ]
  },
  {
   "cell_type": "code",
   "execution_count": null,
   "id": "d4407e39-899f-48ea-9dbe-eb269d8a1848",
   "metadata": {},
   "outputs": [],
   "source": []
  },
  {
   "cell_type": "code",
   "execution_count": null,
   "id": "395fadff-288c-4236-bc20-ffd4db65135f",
   "metadata": {},
   "outputs": [],
   "source": []
  },
  {
   "cell_type": "code",
   "execution_count": null,
   "id": "4dbc969c-6c5b-48e4-9cd0-d2318de74dc7",
   "metadata": {},
   "outputs": [],
   "source": []
  }
 ],
 "metadata": {
  "kernelspec": {
   "display_name": "Python 3 (ipykernel)",
   "language": "python",
   "name": "python3"
  },
  "language_info": {
   "codemirror_mode": {
    "name": "ipython",
    "version": 3
   },
   "file_extension": ".py",
   "mimetype": "text/x-python",
   "name": "python",
   "nbconvert_exporter": "python",
   "pygments_lexer": "ipython3",
   "version": "3.12.4"
  }
 },
 "nbformat": 4,
 "nbformat_minor": 5
}
