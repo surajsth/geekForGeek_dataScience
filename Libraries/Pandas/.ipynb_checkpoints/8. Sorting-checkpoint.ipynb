{
 "cells": [
  {
   "cell_type": "code",
   "execution_count": 1,
   "id": "4e44cbda-4b2a-4e7b-ad4c-d5db36e49aac",
   "metadata": {},
   "outputs": [
    {
     "name": "stdout",
     "output_type": "stream",
     "text": [
      "      Name  Age  Score\n",
      "0    Alice   25     85\n",
      "1      Bob   30     90\n",
      "2  Charlie   35     95\n",
      "3    David   40     80\n"
     ]
    }
   ],
   "source": [
    "import pandas as pd\n",
    "data = {'Name': ['Alice', 'Bob', 'Charlie', 'David'],\n",
    "        'Age': [25, 30, 35, 40],\n",
    "        'Score': [85, 90, 95, 80]}\n",
    "df = pd.DataFrame(data)\n",
    "\n",
    "sorted_df = df.sort_values(by='Age')\n",
    "print(sorted_df)"
   ]
  },
  {
   "cell_type": "code",
   "execution_count": 2,
   "id": "d2d602d2-9a46-4f45-a56f-968ed5df64d1",
   "metadata": {},
   "outputs": [
    {
     "name": "stdout",
     "output_type": "stream",
     "text": [
      "      Name  Age  Score\n",
      "3    David   40     80\n",
      "2  Charlie   35     95\n",
      "1      Bob   30     90\n",
      "0    Alice   25     85\n"
     ]
    }
   ],
   "source": [
    "sorted_df = df.sort_values(by='Age',ascending=False)\n",
    "print(sorted_df)"
   ]
  },
  {
   "cell_type": "code",
   "execution_count": 4,
   "id": "1f01ec5e-3454-47ca-8beb-33bbe6f4ee67",
   "metadata": {},
   "outputs": [
    {
     "name": "stdout",
     "output_type": "stream",
     "text": [
      "      Name  Age  Score\n",
      "0    Alice   25     85\n",
      "1      Bob   30     90\n",
      "2  Charlie   35     95\n",
      "3    David   40     80\n"
     ]
    }
   ],
   "source": [
    " # Sorting by 'Score' in ascending order\n",
    "sorted_df = df.sort_values(by=['Age', 'Score'])\n",
    "print(sorted_df)"
   ]
  },
  {
   "cell_type": "code",
   "execution_count": 6,
   "id": "eee0b262-f53a-42ef-a204-7128be485a17",
   "metadata": {},
   "outputs": [
    {
     "name": "stdout",
     "output_type": "stream",
     "text": [
      "      Name   Age\n",
      "2  Charlie   NaN\n",
      "1      Bob  22.0\n",
      "3    David  22.0\n",
      "0    Alice  28.0\n"
     ]
    }
   ],
   "source": [
    "data_with_nan = {\"Name\": [\"Alice\", \"Bob\", \"Charlie\", \"David\"],\"Age\": [28, 22, None, 22]}\n",
    "df_nan = pd.DataFrame(data_with_nan)\n",
    "# Sort by 'Age', placing missing values first\n",
    "sorted_df = df_nan.sort_values(by=\"Age\", na_position=\"first\")\n",
    "print(sorted_df)"
   ]
  },
  {
   "cell_type": "code",
   "execution_count": 7,
   "id": "b4c1e9b9-4f14-46fc-9038-1b7c8a4cacad",
   "metadata": {},
   "outputs": [
    {
     "name": "stdout",
     "output_type": "stream",
     "text": [
      "      Name  Age  Score\n",
      "1      Bob   22     90\n",
      "3    David   22     80\n",
      "2  Charlie   25     95\n",
      "0    Alice   28     85\n",
      "4      Eve   28     88\n"
     ]
    }
   ],
   "source": [
    "import pandas as pd\n",
    "\n",
    "# Create a DataFrame with duplicate 'Age' values\n",
    "data = {\n",
    "    \"Name\": [\"Alice\", \"Bob\", \"Charlie\", \"David\", \"Eve\"],\n",
    "    \"Age\": [28, 22, 25, 22, 28],\n",
    "    \"Score\": [85, 90, 95, 80, 88]\n",
    "}\n",
    "df = pd.DataFrame(data)\n",
    "\n",
    "# Sort the DataFrame by 'Age' using the 'mergesort' algorithm\n",
    "sorted_df = df.sort_values(by='Age', kind='mergesort')\n",
    "print(sorted_df)"
   ]
  },
  {
   "cell_type": "code",
   "execution_count": 8,
   "id": "e6dc8e1a-e5e9-44bf-89e5-53267d4a1e12",
   "metadata": {},
   "outputs": [
    {
     "name": "stdout",
     "output_type": "stream",
     "text": [
      "      Name  Age  Score\n",
      "0    Alice   28     85\n",
      "1      Bob   22     90\n",
      "2  Charlie   25     95\n",
      "3    David   22     80\n",
      "4      Eve   28     88\n"
     ]
    }
   ],
   "source": [
    "# Custom Sorting with Key Functions\n",
    "import pandas as pd\n",
    "data = {\n",
    "    \"Name\": [\"Alice\", \"Bob\", \"Charlie\", \"David\", \"Eve\"],\n",
    "    \"Age\": [28, 22, 25, 22, 28],\n",
    "    \"Score\": [85, 90, 95, 80, 88]\n",
    "}\n",
    "df = pd.DataFrame(data)\n",
    "\n",
    "sorted_df = df.sort_values(by='Name', key=lambda col: col.str.lower())\n",
    "print(sorted_df)"
   ]
  }
 ],
 "metadata": {
  "kernelspec": {
   "display_name": "Python 3 (ipykernel)",
   "language": "python",
   "name": "python3"
  },
  "language_info": {
   "codemirror_mode": {
    "name": "ipython",
    "version": 3
   },
   "file_extension": ".py",
   "mimetype": "text/x-python",
   "name": "python",
   "nbconvert_exporter": "python",
   "pygments_lexer": "ipython3",
   "version": "3.12.4"
  }
 },
 "nbformat": 4,
 "nbformat_minor": 5
}
