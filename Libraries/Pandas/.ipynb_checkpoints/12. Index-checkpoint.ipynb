{
 "cells": [
  {
   "cell_type": "code",
   "execution_count": 1,
   "id": "b3f13df4-b4ac-477e-9ca9-669890ad8a3e",
   "metadata": {},
   "outputs": [
    {
     "name": "stdout",
     "output_type": "stream",
     "text": [
      "City 1    New York\n",
      "City 1     Chicago\n",
      "City 3     Toronto\n",
      "City 3      Lisbon\n",
      "dtype: object\n"
     ]
    }
   ],
   "source": [
    "# Assigning Duplicate Index Labels\n",
    "import pandas as pd\n",
    "\n",
    "series = pd.Series(['New York', 'Chicago', 'Toronto', 'Lisbon'])\n",
    "\n",
    "# Creating the row axis labels\n",
    "series.index = ['City 1', 'City 1', 'City 3', 'City 3'] \n",
    "print(series)"
   ]
  },
  {
   "cell_type": "code",
   "execution_count": 2,
   "id": "6ce0c515-858e-4494-ab48-c1b6a8611ad1",
   "metadata": {},
   "outputs": [
    {
     "data": {
      "text/plain": [
       "Day 1    1/1/2018\n",
       "Day 2    2/1/2018\n",
       "Day 3    3/1/2018\n",
       "Day 4    4/1/2018\n",
       "dtype: object"
      ]
     },
     "execution_count": 2,
     "metadata": {},
     "output_type": "execute_result"
    }
   ],
   "source": [
    "Date = ['1/1/2018', '2/1/2018', '3/1/2018', '4/1/2018']\n",
    "idx_name = ['Day 1', 'Day 2', 'Day 3', 'Day 4']\n",
    "\n",
    "pd.Series(data = Date,index = idx_name)"
   ]
  },
  {
   "cell_type": "code",
   "execution_count": 3,
   "id": "bbd5e4b5-187a-48c1-ac76-458ab30db738",
   "metadata": {},
   "outputs": [
    {
     "name": "stdout",
     "output_type": "stream",
     "text": [
      "0    1/1/2018\n",
      "1    2/1/2018\n",
      "2    3/1/2018\n",
      "3    4/1/2018\n",
      "dtype: object\n"
     ]
    }
   ],
   "source": [
    "# Resetting Index to Default\n",
    "sr = pd.Series(data = Date,        # Series Data\n",
    "              index = idx_name   # Index\n",
    "              )\n",
    "\n",
    "# Resetting index to default\n",
    "sr.reset_index(drop=True, inplace=True)\n",
    "print(sr)"
   ]
  },
  {
   "cell_type": "code",
   "execution_count": null,
   "id": "9a78cf22-6687-46ef-8f42-0afd2c921cb3",
   "metadata": {},
   "outputs": [],
   "source": []
  },
  {
   "cell_type": "code",
   "execution_count": null,
   "id": "c10ba20f-3300-48ca-8bd5-996a342e9499",
   "metadata": {},
   "outputs": [],
   "source": []
  },
  {
   "cell_type": "code",
   "execution_count": null,
   "id": "85b166a4-aa5b-44b3-9158-50f8edd941cf",
   "metadata": {},
   "outputs": [],
   "source": []
  },
  {
   "cell_type": "code",
   "execution_count": null,
   "id": "0165ccdf-c584-4c67-8135-97624ba1ed83",
   "metadata": {},
   "outputs": [],
   "source": []
  }
 ],
 "metadata": {
  "kernelspec": {
   "display_name": "Python 3 (ipykernel)",
   "language": "python",
   "name": "python3"
  },
  "language_info": {
   "codemirror_mode": {
    "name": "ipython",
    "version": 3
   },
   "file_extension": ".py",
   "mimetype": "text/x-python",
   "name": "python",
   "nbconvert_exporter": "python",
   "pygments_lexer": "ipython3",
   "version": "3.12.4"
  }
 },
 "nbformat": 4,
 "nbformat_minor": 5
}
